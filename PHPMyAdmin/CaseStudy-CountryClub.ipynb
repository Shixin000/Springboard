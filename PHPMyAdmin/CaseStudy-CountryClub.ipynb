{
 "cells": [
  {
   "cell_type": "markdown",
   "metadata": {},
   "source": [
    "# Part 1\n",
    "## Q1: Some of the facilities charge a fee to members, but some do not. Write a SQL query to produce a list of the names of the facilities that do.\n",
    "\n",
    "* Q1 ans:\n",
    "\n",
    "SELECT name \n",
    "FROM Facilities\n",
    "WHERE membercost>0;\n",
    "\n",
    "\n",
    "## Q2: How many facilities do not charge a fee to members? \n",
    "\n",
    "* Q2 ans:\n",
    "\n",
    "SELECT count(*) \n",
    "FROM Facilities\n",
    "WHERE membercost=0;\n",
    "\n",
    "\n",
    "## Q3: Write an SQL query to show a list of facilities that charge a fee to members, where the fee is less than 20% of the facility's monthly maintenance cost. Return the facid, facility name, member cost, and monthly maintenance of the facilities in question. \n",
    "\n",
    "* ans:\n",
    "\n",
    "SELECT facid, name, membercost, monthlymaintenance\n",
    "FROM Facilities\n",
    "WHERE membercost >0\n",
    "\tAND membercost < monthlymaintenance*0.2;\n",
    "\n",
    "\n",
    "\n",
    "## Q4: Write an SQL query to retrieve the details of facilities with ID 1 and 5. Try writing the query without using the OR operator. */\n",
    "\n",
    "* ans:\n",
    "\n",
    "SELECT *\n",
    "FROM Facilities\n",
    "WHERE facid\n",
    "IN ( 1, 5 );\n",
    "\n",
    "\n",
    "\n",
    "## Q5: Produce a list of facilities, with each labelled as 'cheap' or 'expensive', depending on if their monthly maintenance cost is more than $100. Return the name and monthly maintenance of the facilities in question.\n",
    "\n",
    "* ans:\n",
    "\n",
    "SELECT name, monthlymaintenance,\n",
    "\tCASE WHEN monthlymaintenance > 100 THEN 'expensive'\n",
    "\t\tELSE 'cheap' END AS label\n",
    "FROM Facilities;\n",
    "\n",
    "\n",
    "\n",
    "##  Q6: You'd like to get the first and last name of the last member(s)\n",
    "who signed up. Try not to use the LIMIT clause for your solution.\n",
    "\n",
    "* ans:\n",
    "\n",
    "SELECT firstname, surname\n",
    "FROM Members\n",
    "WHERE joindate=\n",
    "\t(SELECT MAX(joindate)\n",
    "    FROM Members);\n",
    "\n",
    "\n",
    "\n",
    "##  Q7: Produce a list of all members who have used a tennis court.\n",
    "Include in your output the name of the court, and the name of the member\n",
    "formatted as a single column. Ensure no duplicate data, and order by\n",
    "the member name.\n",
    "\n",
    "* ans: \n",
    "\n",
    "SELECT mbf.member, mbf.name\n",
    "FROM(\n",
    "    SELECT DISTINCT memid, CONCAT(firstname, ' ', surname) AS member, f.name\n",
    "\tFROM Members AS m\n",
    "\tLEFT JOIN Bookings AS b\n",
    "\tUSING(memid)\n",
    "\tLEFT JOIN Facilities AS f\n",
    "\tUSING(facid)\n",
    "\tWHERE f.name LIKE '%Tennis Court%'\n",
    "\tORDER BY member) AS mbf;\n",
    "\n",
    "\n",
    "\n",
    "## Q8: Produce a list of bookings on the day of 2012-09-14 which will cost the member (or guest) more than $30. \n",
    " * ans:\n",
    " \n",
    " SELECT f.name, \n",
    "\tCASE WHEN b.memid != 0 THEN CONCAT(m.surname, ' ', m.firstname) \n",
    "\t\tELSE 'GUEST' END AS member_name, \n",
    "\tCASE WHEN b.memid != 0 THEN f.membercost\n",
    "\t\tELSE f.guestcost END AS cost\n",
    "FROM Bookings AS b\n",
    "    LEFT JOIN Facilities AS f\n",
    "    USING(facid)\n",
    "    LEFT JOIN Members as m\n",
    "    USING(memid)\n",
    "    WHERE (guestcost > 30 AND membercost > 30)\n",
    "\tAND (starttime >= '20120914 00:00:00' OR starttime < '20120915 00:00:00')\n",
    "    ORDER BY COST DESC;\n",
    "\n",
    "\n",
    "\n",
    "## Q9: This time, produce the same result as in Q8, but using a subquery. \n",
    "\n",
    "* ans:\n",
    "\n",
    "SELECT fb.name,\n",
    "   CASE WHEN m.memid = 0 THEN 'GUEST'\n",
    "\t   ELSE CONCAT(firstname,' ', surname) END AS member,\n",
    "   CASE WHEN m.memid = 0 THEN fb.guestcost\n",
    "\t   ELSE fb.membercost END AS cost\n",
    "FROM Members AS m\n",
    "LEFT JOIN (\n",
    "\tSELECT name, membercost, guestcost, memid\n",
    "\tFROM Facilities AS f\n",
    "\tLEFT JOIN \n",
    "    \tBookings AS b\n",
    "\tUSING(facid)\n",
    "\tWHERE (starttime >= '2012-09-14' AND starttime < '2012-09-15') \n",
    "\t\tAND (guestcost>30 OR membercost>30)) AS fb\n",
    "USING(memid)\n",
    "ORDER BY cost DESC;"
   ]
  },
  {
   "cell_type": "markdown",
   "metadata": {},
   "source": [
    "## Import sqiite3"
   ]
  },
  {
   "cell_type": "code",
   "execution_count": 2,
   "metadata": {},
   "outputs": [],
   "source": [
    "import sqlite3"
   ]
  },
  {
   "cell_type": "markdown",
   "metadata": {},
   "source": [
    "## Read-only connection"
   ]
  },
  {
   "cell_type": "code",
   "execution_count": 11,
   "metadata": {},
   "outputs": [],
   "source": [
    "conn = sqlite3.connect('sqlite_db_pythonsqlite.db', uri=True)"
   ]
  },
  {
   "cell_type": "markdown",
   "metadata": {},
   "source": [
    "## Create a cursor object"
   ]
  },
  {
   "cell_type": "code",
   "execution_count": 12,
   "metadata": {},
   "outputs": [],
   "source": [
    "curs = conn.cursor()"
   ]
  },
  {
   "cell_type": "markdown",
   "metadata": {},
   "source": [
    "## Use the cursor’s fetchall() method to get the tables listed in sqlite_master"
   ]
  },
  {
   "cell_type": "code",
   "execution_count": 15,
   "metadata": {},
   "outputs": [
    {
     "data": {
      "text/plain": [
       "[('Bookings',), ('Facilities',), ('Members',)]"
      ]
     },
     "execution_count": 15,
     "metadata": {},
     "output_type": "execute_result"
    }
   ],
   "source": [
    "curs.execute(\"SELECT name FROM sqlite_master WHERE type = 'table'\").fetchall()"
   ]
  },
  {
   "cell_type": "code",
   "execution_count": 18,
   "metadata": {},
   "outputs": [
    {
     "name": "stdout",
     "output_type": "stream",
     "text": [
      "(0, 'Tennis Court 1', 5, 25, 10000, 200)\n",
      "(1, 'Tennis Court 2', 5, 25, 8000, 200)\n",
      "(2, 'Badminton Court', 0, 15.5, 4000, 50)\n",
      "(3, 'Table Tennis', 0, 5, 320, 10)\n",
      "(4, 'Massage Room 1', 9.9, 80, 4000, 3000)\n",
      "(5, 'Massage Room 2', 9.9, 80, 4000, 3000)\n",
      "(6, 'Squash Court', 3.5, 17.5, 5000, 80)\n",
      "(7, 'Snooker Table', 0, 5, 450, 15)\n",
      "(8, 'Pool Table', 0, 5, 400, 15)\n"
     ]
    }
   ],
   "source": [
    "for row in curs.execute('SELECT * FROM Facilities'):\n",
    "    print(row)"
   ]
  },
  {
   "cell_type": "code",
   "execution_count": 59,
   "metadata": {},
   "outputs": [
    {
     "name": "stdout",
     "output_type": "stream",
     "text": [
      "(0, 3, 1, '2012-07-03 11:00:00', 2)\n",
      "(1, 4, 1, '2012-07-03 08:00:00', 2)\n",
      "(2, 6, 0, '2012-07-03 18:00:00', 2)\n",
      "(3, 7, 1, '2012-07-03 19:00:00', 2)\n",
      "(4, 8, 1, '2012-07-03 10:00:00', 1)\n",
      "(5, 8, 1, '2012-07-03 15:00:00', 1)\n",
      "(6, 0, 2, '2012-07-04 09:00:00', 3)\n",
      "(7, 0, 2, '2012-07-04 15:00:00', 3)\n",
      "(8, 4, 3, '2012-07-04 13:30:00', 2)\n",
      "(9, 4, 0, '2012-07-04 15:00:00', 2)\n"
     ]
    }
   ],
   "source": [
    "bookings = [row for row in curs.execute('SELECT * FROM Bookings')]\n",
    "for i in range(10):\n",
    "    print(bookings[i])"
   ]
  },
  {
   "cell_type": "markdown",
   "metadata": {},
   "source": [
    "# Q10: Produce a list of facilities with a total revenue less than 10000."
   ]
  },
  {
   "cell_type": "code",
   "execution_count": 58,
   "metadata": {},
   "outputs": [
    {
     "name": "stdout",
     "output_type": "stream",
     "text": [
      "('Tennis Court 2', 9345)\n",
      "('Massage Room 2', 8880)\n",
      "('Squash Court', 7504.0)\n",
      "('Pool Table', 4040)\n",
      "('Badminton Court', 3890.5)\n",
      "('Snooker Table', 2160)\n",
      "('Table Tennis', 1875)\n"
     ]
    }
   ],
   "source": [
    "query = 'SELECT name, SUM(CASE WHEN memid = 1 THEN membercost ELSE guestcost END) AS revenue FROM Bookings LEFT JOIN Facilities USING(facid) GROUP BY name HAVING revenue<10000 ORDER BY revenue DESC'\n",
    "for row in curs.execute(query):\n",
    "    print(row)"
   ]
  },
  {
   "cell_type": "markdown",
   "metadata": {},
   "source": [
    "# Q11: Produce a report of members and who recommended them in alphabetic surname,firstname order "
   ]
  },
  {
   "cell_type": "code",
   "execution_count": null,
   "metadata": {},
   "outputs": [],
   "source": [
    "#Q11: Produce a report of members and who recommended them in alphabetic surname,firstname order \n",
    "query = \"SELECT firstname || ' ' || surname AS member FROM Members WHERE memid != 0 ORDER BY member\"\n",
    "for row in curs.execute(query):\n",
    "    print(row)"
   ]
  },
  {
   "cell_type": "markdown",
   "metadata": {},
   "source": [
    "# Q12: Find the facilities with their usage by member, but not guests"
   ]
  },
  {
   "cell_type": "code",
   "execution_count": 75,
   "metadata": {},
   "outputs": [
    {
     "name": "stdout",
     "output_type": "stream",
     "text": [
      "('Table Tennis', 'Darren Smith')\n",
      "('Massage Room 1', 'Darren Smith')\n",
      "('Snooker Table', 'Darren Smith')\n",
      "('Pool Table', 'Darren Smith')\n",
      "('Pool Table', 'Darren Smith')\n",
      "('Tennis Court 1', 'Tracy Smith')\n",
      "('Tennis Court 1', 'Tracy Smith')\n",
      "('Massage Room 1', 'Tim Rownam')\n",
      "('Squash Court', 'Darren Smith')\n",
      "('Snooker Table', 'Tracy Smith')\n"
     ]
    }
   ],
   "source": [
    "query = 'SELECT name, firstname || \" \" || surname AS member FROM Facilities LEFT JOIN Bookings USING(facid) LEFT JOIN Members AS m USING(memid) WHERE memid != 0'\n",
    "rows = [row for row in curs.execute(query)]\n",
    "for i in range(10):\n",
    "    print(rows[i])"
   ]
  },
  {
   "cell_type": "markdown",
   "metadata": {},
   "source": [
    "# Q13: Find the facilities usage by month, but not guests "
   ]
  },
  {
   "cell_type": "code",
   "execution_count": 94,
   "metadata": {},
   "outputs": [
    {
     "name": "stdout",
     "output_type": "stream",
     "text": [
      "('Badminton Court', 56, '07')\n",
      "('Massage Room 1', 123, '07')\n",
      "('Massage Room 2', 12, '07')\n",
      "('Pool Table', 110, '07')\n",
      "('Snooker Table', 75, '07')\n",
      "('Squash Court', 75, '07')\n",
      "('Table Tennis', 51, '07')\n",
      "('Tennis Court 1', 88, '07')\n",
      "('Tennis Court 2', 68, '07')\n",
      "('Badminton Court', 146, '08')\n",
      "('Massage Room 1', 224, '08')\n",
      "('Massage Room 2', 40, '08')\n",
      "('Pool Table', 291, '08')\n",
      "('Snooker Table', 159, '08')\n",
      "('Squash Court', 170, '08')\n",
      "('Table Tennis', 147, '08')\n",
      "('Tennis Court 1', 146, '08')\n",
      "('Tennis Court 2', 149, '08')\n",
      "('Badminton Court', 181, '09')\n",
      "('Massage Room 1', 282, '09')\n",
      "('Massage Room 2', 59, '09')\n",
      "('Pool Table', 435, '09')\n",
      "('Snooker Table', 210, '09')\n",
      "('Squash Court', 195, '09')\n",
      "('Table Tennis', 205, '09')\n",
      "('Tennis Court 1', 174, '09')\n",
      "('Tennis Court 2', 172, '09')\n"
     ]
    }
   ],
   "source": [
    "query = 'SELECT name, COUNT(name) AS count, STRFTIME(\"%m\",starttime) AS month FROM Facilities LEFT JOIN Bookings USING(facid) GROUP BY month, name'\n",
    "\n",
    "for row in curs.execute(query):\n",
    "    print(row)"
   ]
  },
  {
   "cell_type": "code",
   "execution_count": null,
   "metadata": {},
   "outputs": [],
   "source": []
  }
 ],
 "metadata": {
  "kernelspec": {
   "display_name": "Python 3",
   "language": "python",
   "name": "python3"
  },
  "language_info": {
   "codemirror_mode": {
    "name": "ipython",
    "version": 3
   },
   "file_extension": ".py",
   "mimetype": "text/x-python",
   "name": "python",
   "nbconvert_exporter": "python",
   "pygments_lexer": "ipython3",
   "version": "3.7.4"
  }
 },
 "nbformat": 4,
 "nbformat_minor": 2
}
